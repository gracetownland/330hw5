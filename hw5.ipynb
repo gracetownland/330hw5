{
 "cells": [
  {
   "cell_type": "code",
   "execution_count": 1,
   "metadata": {
    "deletable": false,
    "editable": false
   },
   "outputs": [],
   "source": [
    "# Initialize Otter\n",
    "import otter\n",
    "grader = otter.Notebook(\"hw5.ipynb\")"
   ]
  },
  {
   "cell_type": "markdown",
   "metadata": {},
   "source": [
    "# CPSC 330 - Applied Machine Learning \n",
    "\n",
    "## Homework 5: Putting it all together \n",
    "### Associated lectures: All material till lecture 13\n",
    "### <u>IMPORTANT NOTE:</u> All students must complete HW5 - this homework grade cannot be dropped as part of the lowest homework grade drop policy."
   ]
  },
  {
   "cell_type": "markdown",
   "metadata": {},
   "source": [
    "## Table of contents\n",
    "0. [Submission instructions](#si)\n",
    "1. [Understanding the problem](#1)\n",
    "2. [Data splitting](#2)\n",
    "3. [EDA](#3)\n",
    "4. [Feature engineering](#4)\n",
    "5. [Preprocessing and transformations](#5) \n",
    "6. [Baseline model](#6)\n",
    "7. [Linear models](#7)\n",
    "8. [Different models](#8)\n",
    "9. [Feature selection](#9)\n",
    "10. [Hyperparameter optimization](#10)\n",
    "11. [Interpretation and feature importances](#11) \n",
    "12. [Results on the test set](#12)\n",
    "13. [Summary of the results](#13)\n",
    "14. [Your takeaway from the course](#15)"
   ]
  },
  {
   "cell_type": "markdown",
   "metadata": {},
   "source": [
    "<div class=\"alert alert-info\">\n",
    "\n",
    "## Submission instructions\n",
    "<hr>\n",
    "rubric={points:4}\n",
    "\n",
    "**You may work with a partner on this homework and submit your assignment as a group.** Below are some instructions on working as a group.  \n",
    "- The maximum group size is 2. \n",
    "- Use group work as an opportunity to collaborate and learn new things from each other. \n",
    "- Be respectful to each other and make sure you understand all the concepts in the assignment well. \n",
    "- It's your responsibility to make sure that the assignment is submitted by one of the group members before the deadline. \n",
    "- You can find the instructions on how to do group submission on Gradescope [here](https://help.gradescope.com/article/m5qz2xsnjy-student-add-group-members).\n",
    "- If you would like to use late tokens for the homework, all group members must have the necessary late tokens available. Please note that the late tokens will be counted for all members of the group.   \n",
    "\n",
    "\n",
    "Follow the [homework submission instructions](https://github.com/UBC-CS/cpsc330-2024W2/blob/master/docs/homework_instructions.md). \n",
    "\n",
    "1. Before submitting the assignment, run all cells in your notebook to make sure there are no errors by doing `Kernel -> Restart Kernel and Clear All Outputs` and then `Run -> Run All Cells`. \n",
    "2. Notebooks with cell execution numbers out of order or not starting from \"1\" will have marks deducted. Notebooks without the output displayed may not be graded at all (because we need to see the output in order to grade your work).\n",
    "3. Follow the [CPSC 330 homework instructions](https://ubc-cs.github.io/cpsc330-2024W2/docs/homework_instructions.html), which include information on how to do your assignment and how to submit your assignment.\n",
    "4. Upload your solution on Gradescope. Check out this [Gradescope Student Guide](https://lthub.ubc.ca/guides/gradescope-student-guide/) if you need help with Gradescope submission. \n",
    "5. Make sure that the plots and output are rendered properly in your submitted file. If the .ipynb file is too big and doesn't render on Gradescope, also upload a pdf or html in addition to the .ipynb so that the TAs can view your submission on Gradescope.\n",
    "\n",
    "\n",
    "_Note: The assignments will get gradually more open-ended as we progress through the course. In many cases, there won't be a single correct solution. Sometimes you will have to make your own choices and your own decisions (for example, on what parameter values to use when they are not explicitly provided in the instructions). Use your own judgment in such cases and justify your choices, if necessary._\n",
    "\n",
    "</div>"
   ]
  },
  {
   "cell_type": "markdown",
   "metadata": {
    "deletable": false,
    "editable": false
   },
   "source": [
    "<!-- BEGIN QUESTION -->\n",
    "\n",
    "## Imports"
   ]
  },
  {
   "cell_type": "markdown",
   "metadata": {
    "deletable": false,
    "editable": false
   },
   "source": [
    "<div class=\"alert alert-warning\">\n",
    "    \n",
    "Imports\n",
    "    \n",
    "</div>\n",
    "\n",
    "_Points:_ 0"
   ]
  },
  {
   "cell_type": "code",
   "execution_count": 34,
   "metadata": {
    "tags": []
   },
   "outputs": [],
   "source": [
    "import os\n",
    "\n",
    "%matplotlib inline\n",
    "import sys\n",
    "\n",
    "import matplotlib.pyplot as plt\n",
    "import numpy as np\n",
    "import pandas as pd\n",
    "import seaborn as sns\n",
    "from sklearn.compose import ColumnTransformer, make_column_transformer\n",
    "from sklearn.dummy import DummyRegressor\n",
    "from sklearn.linear_model import Ridge\n",
    "from sklearn.ensemble import RandomForestRegressor\n",
    "from sklearn.neighbors import KNeighborsRegressor\n",
    "from sklearn.model_selection import cross_validate\n",
    "from sklearn.model_selection import GridSearchCV\n",
    "from sklearn.ensemble import RandomForestClassifier\n",
    "from sklearn.impute import SimpleImputer\n",
    "from sklearn.linear_model import LogisticRegression\n",
    "from sklearn.metrics import (\n",
    "    classification_report,\n",
    "    confusion_matrix,\n",
    "    f1_score,\n",
    "    make_scorer,\n",
    ")\n",
    "from sklearn.model_selection import (\n",
    "    GridSearchCV,\n",
    "    RandomizedSearchCV,\n",
    "    cross_val_score,\n",
    "    cross_validate,\n",
    "    train_test_split,\n",
    ")\n",
    "from sklearn.model_selection import train_test_split\n",
    "from sklearn.pipeline import Pipeline, make_pipeline\n",
    "from sklearn.preprocessing import OneHotEncoder, OrdinalEncoder, StandardScaler\n",
    "from sklearn.svm import SVC"
   ]
  },
  {
   "cell_type": "markdown",
   "metadata": {
    "deletable": false,
    "editable": false
   },
   "source": [
    "<!-- END QUESTION -->\n",
    "\n",
    "## Introduction <a name=\"in\"></a>\n",
    "\n",
    "In this homework you will be working on an open-ended mini-project, where you will put all the different things you have learned so far together to solve an interesting problem.\n",
    "\n",
    "A few notes and tips when you work on this mini-project: \n",
    "\n",
    "#### Tips\n",
    "1. This mini-project is open-ended, and while working on it, there might be some situations where you'll have to use your own judgment and make your own decisions (as you would be doing when you work as a data scientist). Make sure you explain your decisions whenever necessary. \n",
    "2. **Do not include everything you ever tried in your submission** -- it's fine just to have your final code. That said, your code should be reproducible and well-documented. For example, if you chose your hyperparameters based on some hyperparameter optimization experiment, you should leave in the code for that experiment so that someone else could re-run it and obtain the same hyperparameters, rather than mysteriously just setting the hyperparameters to some (carefully chosen) values in your code. \n",
    "3. If you realize that you are repeating a lot of code try to organize it in functions. Clear presentation of your code, experiments, and results is the key to be successful in this lab. You may use code from lecture notes or previous lab solutions with appropriate attributions. \n",
    "\n",
    "#### Assessment\n",
    "We plan to grade fairly and leniently. We don't have some secret target score that you need to achieve to get a good grade. **You'll be assessed on demonstration of mastery of course topics, clear presentation, and the quality of your analysis and results.** For example, if you just have a bunch of code and no text or figures, that's not good. If you do a bunch of sane things and get a lower accuracy than your friend, don't sweat it.\n",
    "\n",
    "\n",
    "#### A final note\n",
    "Finally, this style of this \"project\" question is different from other assignments. It'll be up to you to decide when you're \"done\" -- in fact, this is one of the hardest parts of real projects. But please don't spend WAY too much time on this... perhaps \"a few hours\" (15-20 hours???) is a good guideline for this project . Of course if you're having fun you're welcome to spend as much time as you want! But, if so, try not to do it out of perfectionism or getting the best possible grade. Do it because you're learning and enjoying it. Students from the past cohorts have found such kind of labs useful and fun and I hope you enjoy it as well. "
   ]
  },
  {
   "cell_type": "markdown",
   "metadata": {},
   "source": [
    "<br><br>"
   ]
  },
  {
   "cell_type": "markdown",
   "metadata": {
    "deletable": false,
    "editable": false
   },
   "source": [
    "<!-- BEGIN QUESTION -->\n",
    "\n",
    "## 1. Pick your problem and explain the prediction problem <a name=\"1\"></a>\n",
    "<hr>\n",
    "rubric={points:3}\n",
    "\n",
    "In this mini project, you have the option to choose on which dataset you will be working on. The tasks you will need to carry on will be similar, independently of your choice.\n",
    "\n",
    "### Option 1\n",
    "You can choose to work on a classification problem of predicting whether a credit card client will default or not. \n",
    "For this problem, you will use [Default of Credit Card Clients Dataset](https://www.kaggle.com/uciml/default-of-credit-card-clients-dataset). In this data set, there are 30,000 examples and 24 features, and the goal is to estimate whether a person will default (fail to pay) their credit card bills; this column is labeled \"default.payment.next.month\" in the data. The rest of the columns can be used as features. You may take some ideas and compare your results with [the associated research paper](https://www.sciencedirect.com/science/article/pii/S0957417407006719), which is available through [the UBC library](https://www.library.ubc.ca/). \n",
    "\n",
    "\n",
    "### Option 2\n",
    "You can choose to work on a regression problem using a [dataset](https://www.kaggle.com/dgomonov/new-york-city-airbnb-open-data) of New York City Airbnb listings from 2019. As usual, you'll need to start by downloading the dataset, then you will try to predict `reviews_per_month`, as a proxy for the popularity of the listing. Airbnb could use this sort of model to predict how popular future listings might be before they are posted, perhaps to help guide hosts create more appealing listings. In reality they might instead use something like vacancy rate or average rating as their target, but we do not have that available here.\n",
    "\n",
    "> Note there is an updated version of this dataset with more features available [here](http://insideairbnb.com/). The features were are using in `listings.csv.gz` for the New York city datasets. You will also see some other files like `reviews.csv.gz`. For your own interest you may want to explore the expanded dataset and try your analysis there. However, please submit your results on the dataset obtained from Kaggle.\n",
    "\n",
    "\n",
    "**Your tasks:**\n",
    "\n",
    "1. Spend some time understanding the options and pick the one you find more interesting (it may help spending some time looking at the documentation available on Kaggle for each dataset).\n",
    "2. After making your choice, focus on understanding the problem and what each feature means, again using the documentation on the dataset page on Kaggle. Write a few sentences on your initial thoughts on the problem and the dataset. \n",
    "3. Download the dataset and read it as a pandas dataframe. "
   ]
  },
  {
   "cell_type": "markdown",
   "metadata": {
    "deletable": false,
    "editable": false
   },
   "source": [
    "<div class=\"alert alert-warning\">\n",
    "    \n",
    "Solution_1\n",
    "    \n",
    "</div>\n",
    "\n",
    "_Points:_ 3"
   ]
  },
  {
   "cell_type": "markdown",
   "metadata": {},
   "source": [
    "well, firstly the dataset is just plain cool. I do notice from the first few rows that some rows like host name could be dropped. interestingly, i think the listing name does play a factor in whether someone will choose that airbnb and also on their views OF the place itself. There are a couple of listing which I've noticed which have zero reviews so those would have to be removed. the data also must be scaled i think. there's a few listing which are ridiculously expensive which are outliers, some dont even have any reviews. and other's while do have everything ready seemingly have 0 listed as the price. these are things which need to be addressed. i think features like latitude and longitude could be dropped, or atleast combined, neighbourhood and neighbourhood group both exist already. we could also drop number of reviews in favour of reviews per month to make sure that the listing is relevant and not something from yesteryear."
   ]
  },
  {
   "cell_type": "code",
   "execution_count": 3,
   "metadata": {
    "tags": []
   },
   "outputs": [
    {
     "data": {
      "text/html": [
       "<div>\n",
       "<style scoped>\n",
       "    .dataframe tbody tr th:only-of-type {\n",
       "        vertical-align: middle;\n",
       "    }\n",
       "\n",
       "    .dataframe tbody tr th {\n",
       "        vertical-align: top;\n",
       "    }\n",
       "\n",
       "    .dataframe thead th {\n",
       "        text-align: right;\n",
       "    }\n",
       "</style>\n",
       "<table border=\"1\" class=\"dataframe\">\n",
       "  <thead>\n",
       "    <tr style=\"text-align: right;\">\n",
       "      <th></th>\n",
       "      <th>id</th>\n",
       "      <th>name</th>\n",
       "      <th>host_id</th>\n",
       "      <th>host_name</th>\n",
       "      <th>neighbourhood_group</th>\n",
       "      <th>neighbourhood</th>\n",
       "      <th>latitude</th>\n",
       "      <th>longitude</th>\n",
       "      <th>room_type</th>\n",
       "      <th>price</th>\n",
       "      <th>minimum_nights</th>\n",
       "      <th>number_of_reviews</th>\n",
       "      <th>last_review</th>\n",
       "      <th>reviews_per_month</th>\n",
       "      <th>calculated_host_listings_count</th>\n",
       "      <th>availability_365</th>\n",
       "    </tr>\n",
       "  </thead>\n",
       "  <tbody>\n",
       "    <tr>\n",
       "      <th>9151</th>\n",
       "      <td>7003697</td>\n",
       "      <td>Furnished room in Astoria apartment</td>\n",
       "      <td>20582832</td>\n",
       "      <td>Kathrine</td>\n",
       "      <td>Queens</td>\n",
       "      <td>Astoria</td>\n",
       "      <td>40.76810</td>\n",
       "      <td>-73.91651</td>\n",
       "      <td>Private room</td>\n",
       "      <td>10000</td>\n",
       "      <td>100</td>\n",
       "      <td>2</td>\n",
       "      <td>2016-02-13</td>\n",
       "      <td>0.04</td>\n",
       "      <td>1</td>\n",
       "      <td>0</td>\n",
       "    </tr>\n",
       "    <tr>\n",
       "      <th>17692</th>\n",
       "      <td>13894339</td>\n",
       "      <td>Luxury 1 bedroom apt. -stunning Manhattan views</td>\n",
       "      <td>5143901</td>\n",
       "      <td>Erin</td>\n",
       "      <td>Brooklyn</td>\n",
       "      <td>Greenpoint</td>\n",
       "      <td>40.73260</td>\n",
       "      <td>-73.95739</td>\n",
       "      <td>Entire home/apt</td>\n",
       "      <td>10000</td>\n",
       "      <td>5</td>\n",
       "      <td>5</td>\n",
       "      <td>2017-07-27</td>\n",
       "      <td>0.16</td>\n",
       "      <td>1</td>\n",
       "      <td>0</td>\n",
       "    </tr>\n",
       "    <tr>\n",
       "      <th>29238</th>\n",
       "      <td>22436899</td>\n",
       "      <td>1-BR Lincoln Center</td>\n",
       "      <td>72390391</td>\n",
       "      <td>Jelena</td>\n",
       "      <td>Manhattan</td>\n",
       "      <td>Upper West Side</td>\n",
       "      <td>40.77213</td>\n",
       "      <td>-73.98665</td>\n",
       "      <td>Entire home/apt</td>\n",
       "      <td>10000</td>\n",
       "      <td>30</td>\n",
       "      <td>0</td>\n",
       "      <td>NaN</td>\n",
       "      <td>NaN</td>\n",
       "      <td>1</td>\n",
       "      <td>83</td>\n",
       "    </tr>\n",
       "    <tr>\n",
       "      <th>40433</th>\n",
       "      <td>31340283</td>\n",
       "      <td>2br - The Heart of NYC: Manhattans Lower East ...</td>\n",
       "      <td>4382127</td>\n",
       "      <td>Matt</td>\n",
       "      <td>Manhattan</td>\n",
       "      <td>Lower East Side</td>\n",
       "      <td>40.71980</td>\n",
       "      <td>-73.98566</td>\n",
       "      <td>Entire home/apt</td>\n",
       "      <td>9999</td>\n",
       "      <td>30</td>\n",
       "      <td>0</td>\n",
       "      <td>NaN</td>\n",
       "      <td>NaN</td>\n",
       "      <td>1</td>\n",
       "      <td>365</td>\n",
       "    </tr>\n",
       "    <tr>\n",
       "      <th>12342</th>\n",
       "      <td>9528920</td>\n",
       "      <td>Quiet, Clean, Lit @ LES &amp; Chinatown</td>\n",
       "      <td>3906464</td>\n",
       "      <td>Amy</td>\n",
       "      <td>Manhattan</td>\n",
       "      <td>Lower East Side</td>\n",
       "      <td>40.71355</td>\n",
       "      <td>-73.98507</td>\n",
       "      <td>Private room</td>\n",
       "      <td>9999</td>\n",
       "      <td>99</td>\n",
       "      <td>6</td>\n",
       "      <td>2016-01-01</td>\n",
       "      <td>0.14</td>\n",
       "      <td>1</td>\n",
       "      <td>83</td>\n",
       "    </tr>\n",
       "    <tr>\n",
       "      <th>...</th>\n",
       "      <td>...</td>\n",
       "      <td>...</td>\n",
       "      <td>...</td>\n",
       "      <td>...</td>\n",
       "      <td>...</td>\n",
       "      <td>...</td>\n",
       "      <td>...</td>\n",
       "      <td>...</td>\n",
       "      <td>...</td>\n",
       "      <td>...</td>\n",
       "      <td>...</td>\n",
       "      <td>...</td>\n",
       "      <td>...</td>\n",
       "      <td>...</td>\n",
       "      <td>...</td>\n",
       "      <td>...</td>\n",
       "    </tr>\n",
       "    <tr>\n",
       "      <th>25778</th>\n",
       "      <td>20624541</td>\n",
       "      <td>Modern apartment in the heart of Williamsburg</td>\n",
       "      <td>10132166</td>\n",
       "      <td>Aymeric</td>\n",
       "      <td>Brooklyn</td>\n",
       "      <td>Williamsburg</td>\n",
       "      <td>40.70838</td>\n",
       "      <td>-73.94645</td>\n",
       "      <td>Entire home/apt</td>\n",
       "      <td>0</td>\n",
       "      <td>5</td>\n",
       "      <td>3</td>\n",
       "      <td>2018-01-02</td>\n",
       "      <td>0.15</td>\n",
       "      <td>1</td>\n",
       "      <td>73</td>\n",
       "    </tr>\n",
       "    <tr>\n",
       "      <th>25796</th>\n",
       "      <td>20639914</td>\n",
       "      <td>Cozy yet spacious private brownstone bedroom</td>\n",
       "      <td>86327101</td>\n",
       "      <td>Adeyemi</td>\n",
       "      <td>Brooklyn</td>\n",
       "      <td>Bedford-Stuyvesant</td>\n",
       "      <td>40.68258</td>\n",
       "      <td>-73.91284</td>\n",
       "      <td>Private room</td>\n",
       "      <td>0</td>\n",
       "      <td>1</td>\n",
       "      <td>95</td>\n",
       "      <td>2019-06-23</td>\n",
       "      <td>4.35</td>\n",
       "      <td>6</td>\n",
       "      <td>222</td>\n",
       "    </tr>\n",
       "    <tr>\n",
       "      <th>25433</th>\n",
       "      <td>20333471</td>\n",
       "      <td>★Hostel Style Room | Ideal Traveling Buddies★</td>\n",
       "      <td>131697576</td>\n",
       "      <td>Anisha</td>\n",
       "      <td>Bronx</td>\n",
       "      <td>East Morrisania</td>\n",
       "      <td>40.83296</td>\n",
       "      <td>-73.88668</td>\n",
       "      <td>Private room</td>\n",
       "      <td>0</td>\n",
       "      <td>2</td>\n",
       "      <td>55</td>\n",
       "      <td>2019-06-24</td>\n",
       "      <td>2.56</td>\n",
       "      <td>4</td>\n",
       "      <td>127</td>\n",
       "    </tr>\n",
       "    <tr>\n",
       "      <th>26841</th>\n",
       "      <td>21291569</td>\n",
       "      <td>Coliving in Brooklyn! Modern design / Shared room</td>\n",
       "      <td>101970559</td>\n",
       "      <td>Sergii</td>\n",
       "      <td>Brooklyn</td>\n",
       "      <td>Bushwick</td>\n",
       "      <td>40.69211</td>\n",
       "      <td>-73.90670</td>\n",
       "      <td>Shared room</td>\n",
       "      <td>0</td>\n",
       "      <td>30</td>\n",
       "      <td>2</td>\n",
       "      <td>2019-06-22</td>\n",
       "      <td>0.11</td>\n",
       "      <td>6</td>\n",
       "      <td>333</td>\n",
       "    </tr>\n",
       "    <tr>\n",
       "      <th>25795</th>\n",
       "      <td>20639792</td>\n",
       "      <td>Contemporary bedroom in brownstone with nice view</td>\n",
       "      <td>86327101</td>\n",
       "      <td>Adeyemi</td>\n",
       "      <td>Brooklyn</td>\n",
       "      <td>Bedford-Stuyvesant</td>\n",
       "      <td>40.68279</td>\n",
       "      <td>-73.91170</td>\n",
       "      <td>Private room</td>\n",
       "      <td>0</td>\n",
       "      <td>1</td>\n",
       "      <td>95</td>\n",
       "      <td>2019-06-21</td>\n",
       "      <td>4.37</td>\n",
       "      <td>6</td>\n",
       "      <td>232</td>\n",
       "    </tr>\n",
       "  </tbody>\n",
       "</table>\n",
       "<p>48895 rows × 16 columns</p>\n",
       "</div>"
      ],
      "text/plain": [
       "             id                                               name    host_id  \\\n",
       "9151    7003697                Furnished room in Astoria apartment   20582832   \n",
       "17692  13894339    Luxury 1 bedroom apt. -stunning Manhattan views    5143901   \n",
       "29238  22436899                                1-BR Lincoln Center   72390391   \n",
       "40433  31340283  2br - The Heart of NYC: Manhattans Lower East ...    4382127   \n",
       "12342   9528920                Quiet, Clean, Lit @ LES & Chinatown    3906464   \n",
       "...         ...                                                ...        ...   \n",
       "25778  20624541      Modern apartment in the heart of Williamsburg   10132166   \n",
       "25796  20639914       Cozy yet spacious private brownstone bedroom   86327101   \n",
       "25433  20333471      ★Hostel Style Room | Ideal Traveling Buddies★  131697576   \n",
       "26841  21291569  Coliving in Brooklyn! Modern design / Shared room  101970559   \n",
       "25795  20639792  Contemporary bedroom in brownstone with nice view   86327101   \n",
       "\n",
       "      host_name neighbourhood_group       neighbourhood  latitude  longitude  \\\n",
       "9151   Kathrine              Queens             Astoria  40.76810  -73.91651   \n",
       "17692      Erin            Brooklyn          Greenpoint  40.73260  -73.95739   \n",
       "29238    Jelena           Manhattan     Upper West Side  40.77213  -73.98665   \n",
       "40433      Matt           Manhattan     Lower East Side  40.71980  -73.98566   \n",
       "12342       Amy           Manhattan     Lower East Side  40.71355  -73.98507   \n",
       "...         ...                 ...                 ...       ...        ...   \n",
       "25778   Aymeric            Brooklyn        Williamsburg  40.70838  -73.94645   \n",
       "25796   Adeyemi            Brooklyn  Bedford-Stuyvesant  40.68258  -73.91284   \n",
       "25433    Anisha               Bronx     East Morrisania  40.83296  -73.88668   \n",
       "26841    Sergii            Brooklyn            Bushwick  40.69211  -73.90670   \n",
       "25795   Adeyemi            Brooklyn  Bedford-Stuyvesant  40.68279  -73.91170   \n",
       "\n",
       "             room_type  price  minimum_nights  number_of_reviews last_review  \\\n",
       "9151      Private room  10000             100                  2  2016-02-13   \n",
       "17692  Entire home/apt  10000               5                  5  2017-07-27   \n",
       "29238  Entire home/apt  10000              30                  0         NaN   \n",
       "40433  Entire home/apt   9999              30                  0         NaN   \n",
       "12342     Private room   9999              99                  6  2016-01-01   \n",
       "...                ...    ...             ...                ...         ...   \n",
       "25778  Entire home/apt      0               5                  3  2018-01-02   \n",
       "25796     Private room      0               1                 95  2019-06-23   \n",
       "25433     Private room      0               2                 55  2019-06-24   \n",
       "26841      Shared room      0              30                  2  2019-06-22   \n",
       "25795     Private room      0               1                 95  2019-06-21   \n",
       "\n",
       "       reviews_per_month  calculated_host_listings_count  availability_365  \n",
       "9151                0.04                               1                 0  \n",
       "17692               0.16                               1                 0  \n",
       "29238                NaN                               1                83  \n",
       "40433                NaN                               1               365  \n",
       "12342               0.14                               1                83  \n",
       "...                  ...                             ...               ...  \n",
       "25778               0.15                               1                73  \n",
       "25796               4.35                               6               222  \n",
       "25433               2.56                               4               127  \n",
       "26841               0.11                               6               333  \n",
       "25795               4.37                               6               232  \n",
       "\n",
       "[48895 rows x 16 columns]"
      ]
     },
     "execution_count": 3,
     "metadata": {},
     "output_type": "execute_result"
    }
   ],
   "source": [
    "df=pd.read_csv(\"./data/AB_NYC_2019.csv\")\n",
    "df.head()\n",
    "df\n",
    "\n",
    "df_sorted = df.sort_values(by=\"price\", ascending=False)\n",
    "df_sorted"
   ]
  },
  {
   "cell_type": "markdown",
   "metadata": {
    "deletable": false,
    "editable": false
   },
   "source": [
    "<!-- END QUESTION -->\n",
    "\n",
    "<br><br>"
   ]
  },
  {
   "cell_type": "markdown",
   "metadata": {
    "deletable": false,
    "editable": false
   },
   "source": [
    "<!-- BEGIN QUESTION -->\n",
    "\n",
    "## 2. Data splitting <a name=\"2\"></a>\n",
    "<hr>\n",
    "rubric={points:2}\n",
    "\n",
    "**Your tasks:**\n",
    "\n",
    "1. Split the data into train (70%) and test (30%) portions with `random_state=123`.\n",
    "\n",
    "> If your computer cannot handle training on 70% training data, make the test split bigger.  "
   ]
  },
  {
   "cell_type": "markdown",
   "metadata": {
    "deletable": false,
    "editable": false
   },
   "source": [
    "<div class=\"alert alert-warning\">\n",
    "    \n",
    "Solution_2\n",
    "    \n",
    "</div>\n",
    "\n",
    "_Points:_ 2"
   ]
  },
  {
   "cell_type": "code",
   "execution_count": 4,
   "metadata": {
    "tags": []
   },
   "outputs": [
    {
     "name": "stdout",
     "output_type": "stream",
     "text": [
      "(34226, 16) (14669, 16)\n"
     ]
    }
   ],
   "source": [
    "train_df, test_df = train_test_split(df, test_size=0.3,random_state=123)\n",
    "print(train_df.shape,test_df.shape)"
   ]
  },
  {
   "cell_type": "markdown",
   "metadata": {
    "deletable": false,
    "editable": false
   },
   "source": [
    "<!-- END QUESTION -->\n",
    "\n",
    "<br><br>"
   ]
  },
  {
   "cell_type": "markdown",
   "metadata": {
    "deletable": false,
    "editable": false
   },
   "source": [
    "<!-- BEGIN QUESTION -->\n",
    "\n",
    "## 3. EDA <a name=\"3\"></a>\n",
    "<hr>\n",
    "rubric={points:10}\n",
    "\n",
    "**Your tasks:**\n",
    "\n",
    "1. Perform exploratory data analysis on the train set.\n",
    "2. Include at least two summary statistics and two visualizations that you find useful, and accompany each one with a sentence explaining it.\n",
    "3. Summarize your initial observations about the data. \n",
    "4. Pick appropriate metric/metrics for assessment. "
   ]
  },
  {
   "cell_type": "markdown",
   "metadata": {
    "deletable": false,
    "editable": false
   },
   "source": [
    "<div class=\"alert alert-warning\">\n",
    "    \n",
    "Solution_3\n",
    "    \n",
    "</div>\n",
    "\n",
    "_Points:_ 10"
   ]
  },
  {
   "cell_type": "markdown",
   "metadata": {},
   "source": [
    "we can see that there's a few missing entries in the training data. particularly in host name, name last review and reviews per month. additionally we have various different data types. the dataset has high price variability with many outliers. room type and neighbourhood play a big role in determining price. some listings are just abnormal. the histogram shows that most listings are around the $300 range, and that quite obviously the bigger the listing (an entire house over a shared room) the higher the median price."
   ]
  },
  {
   "cell_type": "code",
   "execution_count": 5,
   "metadata": {
    "tags": []
   },
   "outputs": [
    {
     "name": "stdout",
     "output_type": "stream",
     "text": [
      "<class 'pandas.core.frame.DataFrame'>\n",
      "Index: 34226 entries, 36150 to 15725\n",
      "Data columns (total 16 columns):\n",
      " #   Column                          Non-Null Count  Dtype  \n",
      "---  ------                          --------------  -----  \n",
      " 0   id                              34226 non-null  int64  \n",
      " 1   name                            34216 non-null  object \n",
      " 2   host_id                         34226 non-null  int64  \n",
      " 3   host_name                       34209 non-null  object \n",
      " 4   neighbourhood_group             34226 non-null  object \n",
      " 5   neighbourhood                   34226 non-null  object \n",
      " 6   latitude                        34226 non-null  float64\n",
      " 7   longitude                       34226 non-null  float64\n",
      " 8   room_type                       34226 non-null  object \n",
      " 9   price                           34226 non-null  int64  \n",
      " 10  minimum_nights                  34226 non-null  int64  \n",
      " 11  number_of_reviews               34226 non-null  int64  \n",
      " 12  last_review                     27236 non-null  object \n",
      " 13  reviews_per_month               27236 non-null  float64\n",
      " 14  calculated_host_listings_count  34226 non-null  int64  \n",
      " 15  availability_365                34226 non-null  int64  \n",
      "dtypes: float64(3), int64(7), object(6)\n",
      "memory usage: 4.4+ MB\n"
     ]
    },
    {
     "data": {
      "text/html": [
       "<div>\n",
       "<style scoped>\n",
       "    .dataframe tbody tr th:only-of-type {\n",
       "        vertical-align: middle;\n",
       "    }\n",
       "\n",
       "    .dataframe tbody tr th {\n",
       "        vertical-align: top;\n",
       "    }\n",
       "\n",
       "    .dataframe thead th {\n",
       "        text-align: right;\n",
       "    }\n",
       "</style>\n",
       "<table border=\"1\" class=\"dataframe\">\n",
       "  <thead>\n",
       "    <tr style=\"text-align: right;\">\n",
       "      <th></th>\n",
       "      <th>id</th>\n",
       "      <th>host_id</th>\n",
       "      <th>latitude</th>\n",
       "      <th>longitude</th>\n",
       "      <th>price</th>\n",
       "      <th>minimum_nights</th>\n",
       "      <th>number_of_reviews</th>\n",
       "      <th>reviews_per_month</th>\n",
       "      <th>calculated_host_listings_count</th>\n",
       "      <th>availability_365</th>\n",
       "    </tr>\n",
       "  </thead>\n",
       "  <tbody>\n",
       "    <tr>\n",
       "      <th>count</th>\n",
       "      <td>3.422600e+04</td>\n",
       "      <td>3.422600e+04</td>\n",
       "      <td>34226.000000</td>\n",
       "      <td>34226.000000</td>\n",
       "      <td>34226.000000</td>\n",
       "      <td>34226.000000</td>\n",
       "      <td>34226.000000</td>\n",
       "      <td>27236.000000</td>\n",
       "      <td>34226.000000</td>\n",
       "      <td>34226.000000</td>\n",
       "    </tr>\n",
       "    <tr>\n",
       "      <th>mean</th>\n",
       "      <td>1.893979e+07</td>\n",
       "      <td>6.726273e+07</td>\n",
       "      <td>40.729142</td>\n",
       "      <td>-73.952083</td>\n",
       "      <td>151.528399</td>\n",
       "      <td>7.094957</td>\n",
       "      <td>23.244814</td>\n",
       "      <td>1.369816</td>\n",
       "      <td>7.042453</td>\n",
       "      <td>112.526004</td>\n",
       "    </tr>\n",
       "    <tr>\n",
       "      <th>std</th>\n",
       "      <td>1.101332e+07</td>\n",
       "      <td>7.840511e+07</td>\n",
       "      <td>0.054531</td>\n",
       "      <td>0.046201</td>\n",
       "      <td>236.628392</td>\n",
       "      <td>21.548290</td>\n",
       "      <td>44.573323</td>\n",
       "      <td>1.700737</td>\n",
       "      <td>32.590803</td>\n",
       "      <td>131.420031</td>\n",
       "    </tr>\n",
       "    <tr>\n",
       "      <th>min</th>\n",
       "      <td>2.539000e+03</td>\n",
       "      <td>2.438000e+03</td>\n",
       "      <td>40.506410</td>\n",
       "      <td>-74.244420</td>\n",
       "      <td>0.000000</td>\n",
       "      <td>1.000000</td>\n",
       "      <td>0.000000</td>\n",
       "      <td>0.010000</td>\n",
       "      <td>1.000000</td>\n",
       "      <td>0.000000</td>\n",
       "    </tr>\n",
       "    <tr>\n",
       "      <th>25%</th>\n",
       "      <td>9.394482e+06</td>\n",
       "      <td>7.721897e+06</td>\n",
       "      <td>40.690193</td>\n",
       "      <td>-73.983030</td>\n",
       "      <td>69.000000</td>\n",
       "      <td>1.000000</td>\n",
       "      <td>1.000000</td>\n",
       "      <td>0.190000</td>\n",
       "      <td>1.000000</td>\n",
       "      <td>0.000000</td>\n",
       "    </tr>\n",
       "    <tr>\n",
       "      <th>50%</th>\n",
       "      <td>1.954546e+07</td>\n",
       "      <td>3.074526e+07</td>\n",
       "      <td>40.723240</td>\n",
       "      <td>-73.955550</td>\n",
       "      <td>106.000000</td>\n",
       "      <td>3.000000</td>\n",
       "      <td>5.000000</td>\n",
       "      <td>0.710000</td>\n",
       "      <td>1.000000</td>\n",
       "      <td>45.000000</td>\n",
       "    </tr>\n",
       "    <tr>\n",
       "      <th>75%</th>\n",
       "      <td>2.915085e+07</td>\n",
       "      <td>1.068375e+08</td>\n",
       "      <td>40.763287</td>\n",
       "      <td>-73.936270</td>\n",
       "      <td>175.000000</td>\n",
       "      <td>5.000000</td>\n",
       "      <td>23.000000</td>\n",
       "      <td>2.000000</td>\n",
       "      <td>2.000000</td>\n",
       "      <td>225.750000</td>\n",
       "    </tr>\n",
       "    <tr>\n",
       "      <th>max</th>\n",
       "      <td>3.648561e+07</td>\n",
       "      <td>2.743213e+08</td>\n",
       "      <td>40.912340</td>\n",
       "      <td>-73.712990</td>\n",
       "      <td>10000.000000</td>\n",
       "      <td>1250.000000</td>\n",
       "      <td>629.000000</td>\n",
       "      <td>58.500000</td>\n",
       "      <td>327.000000</td>\n",
       "      <td>365.000000</td>\n",
       "    </tr>\n",
       "  </tbody>\n",
       "</table>\n",
       "</div>"
      ],
      "text/plain": [
       "                 id       host_id      latitude     longitude         price  \\\n",
       "count  3.422600e+04  3.422600e+04  34226.000000  34226.000000  34226.000000   \n",
       "mean   1.893979e+07  6.726273e+07     40.729142    -73.952083    151.528399   \n",
       "std    1.101332e+07  7.840511e+07      0.054531      0.046201    236.628392   \n",
       "min    2.539000e+03  2.438000e+03     40.506410    -74.244420      0.000000   \n",
       "25%    9.394482e+06  7.721897e+06     40.690193    -73.983030     69.000000   \n",
       "50%    1.954546e+07  3.074526e+07     40.723240    -73.955550    106.000000   \n",
       "75%    2.915085e+07  1.068375e+08     40.763287    -73.936270    175.000000   \n",
       "max    3.648561e+07  2.743213e+08     40.912340    -73.712990  10000.000000   \n",
       "\n",
       "       minimum_nights  number_of_reviews  reviews_per_month  \\\n",
       "count    34226.000000       34226.000000       27236.000000   \n",
       "mean         7.094957          23.244814           1.369816   \n",
       "std         21.548290          44.573323           1.700737   \n",
       "min          1.000000           0.000000           0.010000   \n",
       "25%          1.000000           1.000000           0.190000   \n",
       "50%          3.000000           5.000000           0.710000   \n",
       "75%          5.000000          23.000000           2.000000   \n",
       "max       1250.000000         629.000000          58.500000   \n",
       "\n",
       "       calculated_host_listings_count  availability_365  \n",
       "count                    34226.000000      34226.000000  \n",
       "mean                         7.042453        112.526004  \n",
       "std                         32.590803        131.420031  \n",
       "min                          1.000000          0.000000  \n",
       "25%                          1.000000          0.000000  \n",
       "50%                          1.000000         45.000000  \n",
       "75%                          2.000000        225.750000  \n",
       "max                        327.000000        365.000000  "
      ]
     },
     "execution_count": 5,
     "metadata": {},
     "output_type": "execute_result"
    }
   ],
   "source": [
    "train_df.info()\n",
    "train_df.describe()\n"
   ]
  },
  {
   "cell_type": "code",
   "execution_count": 6,
   "metadata": {
    "tags": []
   },
   "outputs": [
    {
     "name": "stdout",
     "output_type": "stream",
     "text": [
      "Summary Statistics:\n",
      "Price - Mean: $151.56, Median: $107.00\n",
      "Minimum Nights - Mean: 7.10, Median: 3.00\n"
     ]
    },
    {
     "data": {
      "image/png": "[encoded data removed]",
      "text/plain": [
       "<Figure size 800x500 with 1 Axes>"
      ]
     },
     "metadata": {},
     "output_type": "display_data"
    },
    {
     "data": {
      "image/png": "[encoded data removed]",
      "text/plain": [
       "<Figure size 800x500 with 1 Axes>"
      ]
     },
     "metadata": {},
     "output_type": "display_data"
    }
   ],
   "source": [
    "train_clean = train_df.copy()\n",
    "train_clean[\"reviews_per_month\"] = train_clean[\"reviews_per_month\"].fillna(0)\n",
    "train_clean = train_clean[train_clean[\"price\"] > 0]\n",
    "price_cap = train_clean[\"price\"].quantile(0.99)\n",
    "train_cap = train_clean[train_clean[\"price\"] <= price_cap]\n",
    "price_mean = train_clean[\"price\"].mean()\n",
    "price_median = train_clean[\"price\"].median()\n",
    "min_nights_mean = train_clean[\"minimum_nights\"].mean()\n",
    "min_nights_median = train_clean[\"minimum_nights\"].median()\n",
    "print(\"Summary Statistics:\")\n",
    "print(f\"Price - Mean: ${price_mean:.2f}, Median: ${price_median:.2f}\")\n",
    "print(f\"Minimum Nights - Mean: {min_nights_mean:.2f}, Median: {min_nights_median:.2f}\")\n",
    "plt.figure(figsize=(8, 5))\n",
    "sns.histplot(train_cap[\"price\"], bins=50, kde=True)\n",
    "plt.title(\"Distribution of Listing Prices\")\n",
    "plt.xlabel(\"Price ($)\")\n",
    "plt.ylabel(\"Frequency\")\n",
    "plt.show()\n",
    "plt.figure(figsize=(8, 5))\n",
    "sns.boxplot(data=train_cap, x=\"room_type\", y=\"price\")\n",
    "plt.yscale(\"log\")\n",
    "plt.title(\"Room Type vs Price\")\n",
    "plt.xlabel(\"Room Type\")\n",
    "plt.ylabel(\"Price ($, log scale)\")\n",
    "plt.show()"
   ]
  },
  {
   "cell_type": "code",
   "execution_count": 7,
   "metadata": {
    "tags": []
   },
   "outputs": [
    {
     "data": {
      "text/plain": [
       "Ellipsis"
      ]
     },
     "execution_count": 7,
     "metadata": {},
     "output_type": "execute_result"
    }
   ],
   "source": [
    "..."
   ]
  },
  {
   "cell_type": "markdown",
   "metadata": {
    "deletable": false,
    "editable": false
   },
   "source": [
    "<!-- END QUESTION -->\n",
    "\n",
    "<br><br>"
   ]
  },
  {
   "cell_type": "markdown",
   "metadata": {
    "deletable": false,
    "editable": false
   },
   "source": [
    "<!-- BEGIN QUESTION -->\n",
    "\n",
    "## 4. Feature engineering <a name=\"4\"></a>\n",
    "<hr>\n",
    "rubric={points:1}\n",
    "\n",
    "**Your tasks:**\n",
    "\n",
    "1. Carry out feature engineering. In other words, extract new features relevant for the problem and work with your new feature set in the following exercises. You may have to go back and forth between feature engineering and preprocessing. "
   ]
  },
  {
   "cell_type": "markdown",
   "metadata": {
    "deletable": false,
    "editable": false
   },
   "source": [
    "<div class=\"alert alert-warning\">\n",
    "    \n",
    "Solution_4\n",
    "    \n",
    "</div>\n",
    "\n",
    "_Points:_ 1"
   ]
  },
  {
   "cell_type": "code",
   "execution_count": 8,
   "metadata": {},
   "outputs": [],
   "source": [
    "train_clean[\"price_per_min_night\"] = train_clean[\"price\"] / train_clean[\"minimum_nights\"]\n",
    "train_clean[\"has_recent_reviews\"] = (train_clean[\"reviews_per_month\"] > 0).astype(int)\n",
    "train_clean[\"log_price\"] = np.log1p(train_clean[\"price\"])  # log(1 + price) to handle 0s safely\n",
    "train_clean[\"reviews_per_day_available\"] = train_clean[\"number_of_reviews\"] / train_clean[\"availability_365\"].replace(0, 1)\n",
    "train_clean = pd.get_dummies(train_clean, columns=[\"neighbourhood_group\", \"room_type\"], drop_first=True)"
   ]
  },
  {
   "cell_type": "markdown",
   "metadata": {
    "deletable": false,
    "editable": false
   },
   "source": [
    "<!-- END QUESTION -->\n",
    "\n",
    "<br><br>"
   ]
  },
  {
   "cell_type": "markdown",
   "metadata": {
    "deletable": false,
    "editable": false
   },
   "source": [
    "<!-- BEGIN QUESTION -->\n",
    "\n",
    "## 5. Preprocessing and transformations <a name=\"5\"></a>\n",
    "<hr>\n",
    "rubric={points:10}\n",
    "\n",
    "**Your tasks:**\n",
    "\n",
    "1. Identify different feature types and the transformations you would apply on each feature type. \n",
    "2. Define a column transformer, if necessary. "
   ]
  },
  {
   "cell_type": "markdown",
   "metadata": {
    "deletable": false,
    "editable": false
   },
   "source": [
    "<div class=\"alert alert-warning\">\n",
    "    \n",
    "Solution_5\n",
    "    \n",
    "</div>\n",
    "\n",
    "_Points:_ 10"
   ]
  },
  {
   "cell_type": "markdown",
   "metadata": {
    "tags": []
   },
   "source": [
    "### Features used for transformations\n",
    "i would use these features for the transformations\n",
    "- minimum_nights\n",
    "- availability_365\n",
    "- reviews_per_month\n",
    "- reviews_per_day_available\n",
    "- price_per_min_night\n",
    "\n",
    "\n",
    "These features vary in scale and range, so we apply standardization using StandardScaler to normalize them and improve model performance. The categorical features, namely neighbourhood_group and room_type, were previously encoded using manual one-hot encoding via pd.get_dummies(), resulting in columns like neighbourhood_group_Brooklyn and room_type_Private room. Since these are already binary, we simply pass them through without further transformation. We also include has_recent_reviews as a binary feature, which does not require scaling or encoding. \n",
    "we define a ColumnTransformer that standardizes the numeric features while passing through the pre-encoded and binary features."
   ]
  },
  {
   "cell_type": "code",
   "execution_count": 26,
   "metadata": {
    "tags": []
   },
   "outputs": [
    {
     "data": {
      "text/html": [
       "<div>\n",
       "<style scoped>\n",
       "    .dataframe tbody tr th:only-of-type {\n",
       "        vertical-align: middle;\n",
       "    }\n",
       "\n",
       "    .dataframe tbody tr th {\n",
       "        vertical-align: top;\n",
       "    }\n",
       "\n",
       "    .dataframe thead th {\n",
       "        text-align: right;\n",
       "    }\n",
       "</style>\n",
       "<table border=\"1\" class=\"dataframe\">\n",
       "  <thead>\n",
       "    <tr style=\"text-align: right;\">\n",
       "      <th></th>\n",
       "      <th>minimum_nights</th>\n",
       "      <th>availability_365</th>\n",
       "      <th>reviews_per_month</th>\n",
       "      <th>reviews_per_day_available</th>\n",
       "      <th>price_per_min_night</th>\n",
       "      <th>has_recent_reviews</th>\n",
       "      <th>neighbourhood_group_Brooklyn</th>\n",
       "      <th>neighbourhood_group_Manhattan</th>\n",
       "      <th>neighbourhood_group_Queens</th>\n",
       "      <th>neighbourhood_group_Staten Island</th>\n",
       "      <th>room_type_Private room</th>\n",
       "      <th>room_type_Shared room</th>\n",
       "    </tr>\n",
       "  </thead>\n",
       "  <tbody>\n",
       "    <tr>\n",
       "      <th>0</th>\n",
       "      <td>-0.14366</td>\n",
       "      <td>-0.726915</td>\n",
       "      <td>-0.675143</td>\n",
       "      <td>-0.257852</td>\n",
       "      <td>-0.296237</td>\n",
       "      <td>0</td>\n",
       "      <td>False</td>\n",
       "      <td>True</td>\n",
       "      <td>False</td>\n",
       "      <td>False</td>\n",
       "      <td>False</td>\n",
       "      <td>False</td>\n",
       "    </tr>\n",
       "    <tr>\n",
       "      <th>1</th>\n",
       "      <td>1.062832</td>\n",
       "      <td>1.669897</td>\n",
       "      <td>-0.675143</td>\n",
       "      <td>-0.257852</td>\n",
       "      <td>-0.419118</td>\n",
       "      <td>0</td>\n",
       "      <td>False</td>\n",
       "      <td>True</td>\n",
       "      <td>False</td>\n",
       "      <td>False</td>\n",
       "      <td>False</td>\n",
       "      <td>False</td>\n",
       "    </tr>\n",
       "    <tr>\n",
       "      <th>2</th>\n",
       "      <td>-0.282871</td>\n",
       "      <td>-0.856266</td>\n",
       "      <td>-0.675143</td>\n",
       "      <td>-0.257852</td>\n",
       "      <td>0.842028</td>\n",
       "      <td>0</td>\n",
       "      <td>True</td>\n",
       "      <td>False</td>\n",
       "      <td>False</td>\n",
       "      <td>False</td>\n",
       "      <td>True</td>\n",
       "      <td>False</td>\n",
       "    </tr>\n",
       "    <tr>\n",
       "      <th>3</th>\n",
       "      <td>-0.282871</td>\n",
       "      <td>-0.856266</td>\n",
       "      <td>-0.675143</td>\n",
       "      <td>-0.257852</td>\n",
       "      <td>0.162949</td>\n",
       "      <td>0</td>\n",
       "      <td>False</td>\n",
       "      <td>True</td>\n",
       "      <td>False</td>\n",
       "      <td>False</td>\n",
       "      <td>False</td>\n",
       "      <td>False</td>\n",
       "    </tr>\n",
       "    <tr>\n",
       "      <th>4</th>\n",
       "      <td>-0.190064</td>\n",
       "      <td>-0.856266</td>\n",
       "      <td>-0.656561</td>\n",
       "      <td>-0.184008</td>\n",
       "      <td>-0.02245</td>\n",
       "      <td>1</td>\n",
       "      <td>True</td>\n",
       "      <td>False</td>\n",
       "      <td>False</td>\n",
       "      <td>False</td>\n",
       "      <td>False</td>\n",
       "      <td>False</td>\n",
       "    </tr>\n",
       "  </tbody>\n",
       "</table>\n",
       "</div>"
      ],
      "text/plain": [
       "  minimum_nights availability_365 reviews_per_month reviews_per_day_available  \\\n",
       "0       -0.14366        -0.726915         -0.675143                 -0.257852   \n",
       "1       1.062832         1.669897         -0.675143                 -0.257852   \n",
       "2      -0.282871        -0.856266         -0.675143                 -0.257852   \n",
       "3      -0.282871        -0.856266         -0.675143                 -0.257852   \n",
       "4      -0.190064        -0.856266         -0.656561                 -0.184008   \n",
       "\n",
       "  price_per_min_night has_recent_reviews neighbourhood_group_Brooklyn  \\\n",
       "0           -0.296237                  0                        False   \n",
       "1           -0.419118                  0                        False   \n",
       "2            0.842028                  0                         True   \n",
       "3            0.162949                  0                        False   \n",
       "4            -0.02245                  1                         True   \n",
       "\n",
       "  neighbourhood_group_Manhattan neighbourhood_group_Queens  \\\n",
       "0                          True                      False   \n",
       "1                          True                      False   \n",
       "2                         False                      False   \n",
       "3                          True                      False   \n",
       "4                         False                      False   \n",
       "\n",
       "  neighbourhood_group_Staten Island room_type_Private room  \\\n",
       "0                             False                  False   \n",
       "1                             False                  False   \n",
       "2                             False                   True   \n",
       "3                             False                  False   \n",
       "4                             False                  False   \n",
       "\n",
       "  room_type_Shared room  \n",
       "0                 False  \n",
       "1                 False  \n",
       "2                 False  \n",
       "3                 False  \n",
       "4                 False  "
      ]
     },
     "execution_count": 26,
     "metadata": {},
     "output_type": "execute_result"
    }
   ],
   "source": [
    "df = pd.read_csv(\"./data/AB_NYC_2019.csv\")\n",
    "train_df, _ = train_test_split(df, test_size=0.3, random_state=123)\n",
    "\n",
    "# Feature engineering\n",
    "train_clean = train_df.copy()\n",
    "train_clean[\"reviews_per_month\"] = train_clean[\"reviews_per_month\"].fillna(0)\n",
    "train_clean = train_clean[train_clean[\"price\"] > 0]\n",
    "train_clean[\"price_per_min_night\"] = train_clean[\"price\"] / train_clean[\"minimum_nights\"]\n",
    "train_clean[\"has_recent_reviews\"] = (train_clean[\"reviews_per_month\"] > 0).astype(int)\n",
    "train_clean[\"log_price\"] = np.log1p(train_clean[\"price\"])\n",
    "train_clean[\"reviews_per_day_available\"] = train_clean[\"number_of_reviews\"] / train_clean[\"availability_365\"].replace(0, 1)\n",
    "\n",
    "# Manual one-hot encoding\n",
    "train_clean = pd.get_dummies(train_clean, columns=[\"neighbourhood_group\", \"room_type\"], drop_first=True)\n",
    "\n",
    "# Prepare X and y\n",
    "X_train = train_clean.drop(columns=[\"log_price\"])\n",
    "y_train = train_clean[\"log_price\"]\n",
    "\n",
    "# Update feature lists\n",
    "numeric_feats = [\"minimum_nights\", \"availability_365\", \"reviews_per_month\", \n",
    "                 \"reviews_per_day_available\", \"price_per_min_night\"]\n",
    "pass_through = [\"has_recent_reviews\"] + [col for col in X_train.columns if col.startswith(\"neighbourhood_group_\") or col.startswith(\"room_type_\")]\n",
    "\n",
    "# Define preprocessor (skip OneHotEncoder)\n",
    "preprocessor = make_column_transformer(\n",
    "    (StandardScaler(), numeric_feats),\n",
    "    (\"passthrough\", pass_through)\n",
    ")\n",
    "\n",
    "# Transform X\n",
    "X_train_trans = preprocessor.fit_transform(X_train)\n",
    "\n",
    "# Build column names list\n",
    "column_names = numeric_feats + pass_through\n",
    "\n",
    "# Convert to DataFrame\n",
    "X_train_trans_df = pd.DataFrame(X_train_trans, columns=column_names)\n",
    "\n",
    "X_train_trans_df.head()"
   ]
  },
  {
   "cell_type": "code",
   "execution_count": null,
   "metadata": {
    "tags": []
   },
   "outputs": [],
   "source": []
  },
  {
   "cell_type": "code",
   "execution_count": 27,
   "metadata": {
    "tags": []
   },
   "outputs": [
    {
     "data": {
      "text/plain": [
       "Ellipsis"
      ]
     },
     "execution_count": 27,
     "metadata": {},
     "output_type": "execute_result"
    }
   ],
   "source": [
    "..."
   ]
  },
  {
   "cell_type": "code",
   "execution_count": 28,
   "metadata": {
    "tags": []
   },
   "outputs": [
    {
     "data": {
      "text/plain": [
       "Ellipsis"
      ]
     },
     "execution_count": 28,
     "metadata": {},
     "output_type": "execute_result"
    }
   ],
   "source": [
    "..."
   ]
  },
  {
   "cell_type": "markdown",
   "metadata": {
    "deletable": false,
    "editable": false
   },
   "source": [
    "<!-- END QUESTION -->\n",
    "\n",
    "<br><br>"
   ]
  },
  {
   "cell_type": "markdown",
   "metadata": {
    "deletable": false,
    "editable": false
   },
   "source": [
    "<!-- BEGIN QUESTION -->\n",
    "\n",
    "## 6. Baseline model <a name=\"6\"></a>\n",
    "<hr>\n",
    "rubric={points:2}\n",
    "\n",
    "**Your tasks:**\n",
    "1. Try `scikit-learn`'s baseline model and report results."
   ]
  },
  {
   "cell_type": "markdown",
   "metadata": {
    "deletable": false,
    "editable": false
   },
   "source": [
    "<div class=\"alert alert-warning\">\n",
    "    \n",
    "Solution_6\n",
    "    \n",
    "</div>\n",
    "\n",
    "_Points:_ 2"
   ]
  },
  {
   "cell_type": "code",
   "execution_count": 31,
   "metadata": {
    "tags": []
   },
   "outputs": [
    {
     "data": {
      "text/plain": [
       "{'R2 Mean': np.float64(-0.0002449634820751889),\n",
       " 'R2 Std': np.float64(0.0002859036089224942),\n",
       " 'MAE Mean': np.float64(0.5448243842768983),\n",
       " 'MAE Std': np.float64(0.003025213249826204)}"
      ]
     },
     "execution_count": 31,
     "metadata": {},
     "output_type": "execute_result"
    }
   ],
   "source": [
    "baseline_model = DummyRegressor(strategy=\"mean\")\n",
    "\n",
    "# Evaluate using cross-validation (R^2 and negative MAE)\n",
    "r2_scores = cross_val_score(baseline_model, X_train_trans_df, y_train, cv=5, scoring=\"r2\")\n",
    "mae_scores = cross_val_score(baseline_model, X_train_trans_df, y_train, cv=5, scoring=\"neg_mean_absolute_error\")\n",
    "\n",
    "# Convert MAE to positive values\n",
    "mae_scores = -mae_scores\n",
    "\n",
    "# Report results\n",
    "baseline_results = {\n",
    "    \"R2 Mean\": np.mean(r2_scores),\n",
    "    \"R2 Std\": np.std(r2_scores),\n",
    "    \"MAE Mean\": np.mean(mae_scores),\n",
    "    \"MAE Std\": np.std(mae_scores)\n",
    "}\n",
    "\n",
    "baseline_results"
   ]
  },
  {
   "cell_type": "markdown",
   "metadata": {
    "tags": []
   },
   "source": [
    "- The R² near zero means the baseline model explains virtually none of the variance in the target variable.\n",
    "- The MAE of ~0.5448 (in log-price scale) will be your reference point — any trained model should ideally have a lower MAE."
   ]
  },
  {
   "cell_type": "code",
   "execution_count": null,
   "metadata": {
    "tags": []
   },
   "outputs": [],
   "source": [
    "..."
   ]
  },
  {
   "cell_type": "markdown",
   "metadata": {
    "deletable": false,
    "editable": false
   },
   "source": [
    "<!-- END QUESTION -->\n",
    "\n",
    "<br><br>"
   ]
  },
  {
   "cell_type": "markdown",
   "metadata": {
    "deletable": false,
    "editable": false
   },
   "source": [
    "<!-- BEGIN QUESTION -->\n",
    "\n",
    "## 7. Linear models <a name=\"7\"></a>\n",
    "<hr>\n",
    "rubric={points:10}\n",
    "\n",
    "**Your tasks:**\n",
    "\n",
    "1. Try a linear model as a first real attempt. \n",
    "2. Carry out hyperparameter tuning to explore different values for the complexity hyperparameter. \n",
    "3. Report cross-validation scores along with standard deviation. \n",
    "4. Summarize your results."
   ]
  },
  {
   "cell_type": "markdown",
   "metadata": {
    "deletable": false,
    "editable": false
   },
   "source": [
    "<div class=\"alert alert-warning\">\n",
    "    \n",
    "Solution_7\n",
    "    \n",
    "</div>\n",
    "\n",
    "_Points:_ 10"
   ]
  },
  {
   "cell_type": "markdown",
   "metadata": {},
   "source": [
    "\n",
    "- Ridge regression significantly outperforms the baseline model (MAE ≈ 0.5448 → 0.3236).\n",
    "- The best model uses very light regularization (alpha = 0.01), suggesting most features contribute meaningfully without heavy penalty.\n",
    "- Low standard deviation implies consistent performance across folds.\n",
    "\n",
    "\n",
    "These results show that Ridge Regression performs consistently well across a range of small alpha values, indicating that regularization doesn’t heavily penalize feature weights in this dataset. Even small values like 0.01 achieve optimal MAE.\n"
   ]
  },
  {
   "cell_type": "code",
   "execution_count": 33,
   "metadata": {
    "tags": []
   },
   "outputs": [
    {
     "name": "stdout",
     "output_type": "stream",
     "text": [
      "Ridge Regression - Cross-Validation Results:\n",
      "\n",
      " alpha  mean_MAE  std_MAE\n",
      "  0.01  0.323620 0.003996\n",
      "  0.10  0.323620 0.003996\n",
      "  1.00  0.323620 0.003996\n",
      " 10.00  0.323629 0.004001\n",
      "100.00  0.324377 0.004063\n",
      "\n",
      "Best Hyperparameter and Performance:\n",
      "Best Alpha: 0.01\n",
      "Best MAE: 0.3236\n",
      "MAE Std (best alpha): ±0.0040\n"
     ]
    }
   ],
   "source": [
    "# Define linear model and hyperparameter grid\n",
    "ridge = Ridge()\n",
    "param_grid = {\"alpha\": [0.01, 0.1, 1, 10, 100]}\n",
    "\n",
    "# Grid search with 5-fold cross-validation\n",
    "grid_search = GridSearchCV(ridge, param_grid, cv=5, scoring=\"neg_mean_absolute_error\", return_train_score=True)\n",
    "grid_search.fit(X_train_trans_df, y_train)\n",
    "\n",
    "# Extract best model and its cross-validation scores\n",
    "best_model = grid_search.best_estimator_\n",
    "best_score = -grid_search.best_score_\n",
    "std_score = grid_search.cv_results_[\"std_test_score\"][grid_search.best_index_]\n",
    "\n",
    "# Report scores for all hyperparameters\n",
    "cv_results_summary = pd.DataFrame({\n",
    "    \"alpha\": param_grid[\"alpha\"],\n",
    "    \"mean_MAE\": -grid_search.cv_results_[\"mean_test_score\"],\n",
    "    \"std_MAE\": grid_search.cv_results_[\"std_test_score\"]\n",
    "})\n",
    "\n",
    "# Display the CV results using pandas only (no ace_tools)\n",
    "print(\"Ridge Regression - Cross-Validation Results:\\n\")\n",
    "print(cv_results_summary.to_string(index=False))\n",
    "\n",
    "# Print best model performance summary\n",
    "print(\"\\nBest Hyperparameter and Performance:\")\n",
    "print(f\"Best Alpha: {grid_search.best_params_['alpha']}\")\n",
    "print(f\"Best MAE: {best_score:.4f}\")\n",
    "print(f\"MAE Std (best alpha): ±{std_score:.4f}\")"
   ]
  },
  {
   "cell_type": "code",
   "execution_count": null,
   "metadata": {
    "tags": []
   },
   "outputs": [],
   "source": [
    "..."
   ]
  },
  {
   "cell_type": "code",
   "execution_count": null,
   "metadata": {
    "tags": []
   },
   "outputs": [],
   "source": [
    "..."
   ]
  },
  {
   "cell_type": "code",
   "execution_count": null,
   "metadata": {
    "tags": []
   },
   "outputs": [],
   "source": [
    "..."
   ]
  },
  {
   "cell_type": "markdown",
   "metadata": {
    "deletable": false,
    "editable": false
   },
   "source": [
    "<!-- END QUESTION -->\n",
    "\n",
    "<br><br>"
   ]
  },
  {
   "cell_type": "markdown",
   "metadata": {
    "deletable": false,
    "editable": false
   },
   "source": [
    "<!-- BEGIN QUESTION -->\n",
    "\n",
    "## 8. Different models <a name=\"8\"></a>\n",
    "<hr>\n",
    "rubric={points:12}\n",
    "\n",
    "**Your tasks:**\n",
    "1. Try at least 3 other models aside from a linear model. One of these models should be a tree-based ensemble model. \n",
    "2. Summarize your results in terms of overfitting/underfitting and fit and score times. Can you beat a linear model? "
   ]
  },
  {
   "cell_type": "markdown",
   "metadata": {
    "deletable": false,
    "editable": false
   },
   "source": [
    "<div class=\"alert alert-warning\">\n",
    "    \n",
    "Solution_8\n",
    "    \n",
    "</div>\n",
    "\n",
    "_Points:_ 12"
   ]
  },
  {
   "cell_type": "markdown",
   "metadata": {},
   "source": [
    "Random Forest dramatically outperforms the Ridge model with a test MAE of 0.0093. The very low train and test MAE suggest potential overfitting or that the features are highly predictive. Its higher fit time is a tradeoff for accuracy.\n",
    "- KNN shows moderate performance, better than Ridge, but significantly worse than Random Forest.\n",
    "- Ridge Regression performs reliably with low variance, but cannot match the accuracy of tree-based or instance-based models.\n",
    "- SVR was initially considered but excluded because it was computationally expensive and impractical on this dataset in a 5-fold CV."
   ]
  },
  {
   "cell_type": "code",
   "execution_count": 35,
   "metadata": {
    "tags": []
   },
   "outputs": [
    {
     "data": {
      "text/html": [
       "<div>\n",
       "<style scoped>\n",
       "    .dataframe tbody tr th:only-of-type {\n",
       "        vertical-align: middle;\n",
       "    }\n",
       "\n",
       "    .dataframe tbody tr th {\n",
       "        vertical-align: top;\n",
       "    }\n",
       "\n",
       "    .dataframe thead th {\n",
       "        text-align: right;\n",
       "    }\n",
       "</style>\n",
       "<table border=\"1\" class=\"dataframe\">\n",
       "  <thead>\n",
       "    <tr style=\"text-align: right;\">\n",
       "      <th></th>\n",
       "      <th>Model</th>\n",
       "      <th>Train MAE</th>\n",
       "      <th>Test MAE</th>\n",
       "      <th>MAE Std</th>\n",
       "      <th>Fit Time (s)</th>\n",
       "      <th>Score Time (s)</th>\n",
       "    </tr>\n",
       "  </thead>\n",
       "  <tbody>\n",
       "    <tr>\n",
       "      <th>0</th>\n",
       "      <td>Random Forest</td>\n",
       "      <td>0.0035</td>\n",
       "      <td>0.0093</td>\n",
       "      <td>0.0009</td>\n",
       "      <td>5.2756</td>\n",
       "      <td>0.0878</td>\n",
       "    </tr>\n",
       "    <tr>\n",
       "      <th>1</th>\n",
       "      <td>KNN</td>\n",
       "      <td>0.1790</td>\n",
       "      <td>0.2246</td>\n",
       "      <td>0.0031</td>\n",
       "      <td>0.0159</td>\n",
       "      <td>0.0857</td>\n",
       "    </tr>\n",
       "    <tr>\n",
       "      <th>2</th>\n",
       "      <td>Ridge (Linear)</td>\n",
       "      <td>0.3234</td>\n",
       "      <td>0.3236</td>\n",
       "      <td>0.0040</td>\n",
       "      <td>0.0154</td>\n",
       "      <td>0.0063</td>\n",
       "    </tr>\n",
       "  </tbody>\n",
       "</table>\n",
       "</div>"
      ],
      "text/plain": [
       "            Model  Train MAE  Test MAE  MAE Std  Fit Time (s)  Score Time (s)\n",
       "0   Random Forest     0.0035    0.0093   0.0009        5.2756          0.0878\n",
       "1             KNN     0.1790    0.2246   0.0031        0.0159          0.0857\n",
       "2  Ridge (Linear)     0.3234    0.3236   0.0040        0.0154          0.0063"
      ]
     },
     "execution_count": 35,
     "metadata": {},
     "output_type": "execute_result"
    }
   ],
   "source": [
    "# Define models\n",
    "models = {\n",
    "    \"Ridge (Linear)\": Ridge(alpha=0.01),\n",
    "    \"Random Forest\": RandomForestRegressor(n_estimators=100, random_state=42),\n",
    "    \"KNN\": KNeighborsRegressor(n_neighbors=5)\n",
    "}\n",
    "\n",
    "# Store results\n",
    "results = []\n",
    "\n",
    "# Run cross-validation for each model\n",
    "for name, model in models.items():\n",
    "    scores = cross_validate(\n",
    "        model,\n",
    "        X_train_trans_df,\n",
    "        y_train,\n",
    "        scoring=\"neg_mean_absolute_error\",\n",
    "        cv=5,\n",
    "        return_train_score=True,\n",
    "        return_estimator=False\n",
    "    )\n",
    "    results.append({\n",
    "        \"Model\": name,\n",
    "        \"Train MAE\": -np.mean(scores[\"train_score\"]),\n",
    "        \"Test MAE\": -np.mean(scores[\"test_score\"]),\n",
    "        \"MAE Std\": np.std(scores[\"test_score\"]),\n",
    "        \"Fit Time (s)\": np.mean(scores[\"fit_time\"]),\n",
    "        \"Score Time (s)\": np.mean(scores[\"score_time\"])\n",
    "    })\n",
    "\n",
    "# Convert to DataFrame for display\n",
    "model_results_df = pd.DataFrame(results).sort_values(\"Test MAE\").reset_index(drop=True)\n",
    "model_results_df.round(4)"
   ]
  },
  {
   "cell_type": "code",
   "execution_count": null,
   "metadata": {
    "tags": []
   },
   "outputs": [],
   "source": [
    "..."
   ]
  },
  {
   "cell_type": "code",
   "execution_count": null,
   "metadata": {
    "tags": []
   },
   "outputs": [],
   "source": [
    "..."
   ]
  },
  {
   "cell_type": "markdown",
   "metadata": {
    "deletable": false,
    "editable": false
   },
   "source": [
    "<!-- END QUESTION -->\n",
    "\n",
    "<br><br>"
   ]
  },
  {
   "cell_type": "markdown",
   "metadata": {
    "deletable": false,
    "editable": false
   },
   "source": [
    "<!-- BEGIN QUESTION -->\n",
    "\n",
    "## 9. Feature selection <a name=\"9\"></a>\n",
    "<hr>\n",
    "rubric={points:2}\n",
    "\n",
    "**Your tasks:**\n",
    "\n",
    "Make some attempts to select relevant features. You may try `RFECV` or forward selection for this. Do the results improve with feature selection? Summarize your results. If you see improvements in the results, keep feature selection in your pipeline. If not, you may abandon it in the next exercises. "
   ]
  },
  {
   "cell_type": "markdown",
   "metadata": {
    "deletable": false,
    "editable": false
   },
   "source": [
    "<div class=\"alert alert-warning\">\n",
    "    \n",
    "Solution_9\n",
    "    \n",
    "</div>\n",
    "\n",
    "_Points:_ 2"
   ]
  },
  {
   "cell_type": "markdown",
   "metadata": {},
   "source": [
    "_Type your answer here, replacing this text._"
   ]
  },
  {
   "cell_type": "code",
   "execution_count": null,
   "metadata": {
    "tags": []
   },
   "outputs": [],
   "source": [
    "..."
   ]
  },
  {
   "cell_type": "code",
   "execution_count": null,
   "metadata": {
    "tags": []
   },
   "outputs": [],
   "source": [
    "..."
   ]
  },
  {
   "cell_type": "code",
   "execution_count": null,
   "metadata": {
    "tags": []
   },
   "outputs": [],
   "source": [
    "..."
   ]
  },
  {
   "cell_type": "markdown",
   "metadata": {
    "deletable": false,
    "editable": false
   },
   "source": [
    "<!-- END QUESTION -->\n",
    "\n",
    "<br><br>"
   ]
  },
  {
   "cell_type": "markdown",
   "metadata": {
    "deletable": false,
    "editable": false
   },
   "source": [
    "<!-- BEGIN QUESTION -->\n",
    "\n",
    "## 10. Hyperparameter optimization <a name=\"10\"></a>\n",
    "<hr>\n",
    "rubric={points:10}\n",
    "\n",
    "**Your tasks:**\n",
    "\n",
    "Make some attempts to optimize hyperparameters for the models you've tried and summarize your results. In at least one case you should be optimizing multiple hyperparameters for a single model. You may use `sklearn`'s methods for hyperparameter optimization or fancier Bayesian optimization methods. \n",
    "  - [GridSearchCV](http://scikit-learn.org/stable/modules/generated/sklearn.model_selection.GridSearchCV.html)   \n",
    "  - [RandomizedSearchCV](http://scikit-learn.org/stable/modules/generated/sklearn.model_selection.RandomizedSearchCV.html)\n",
    "  - [scikit-optimize](https://github.com/scikit-optimize/scikit-optimize) "
   ]
  },
  {
   "cell_type": "markdown",
   "metadata": {
    "deletable": false,
    "editable": false
   },
   "source": [
    "<div class=\"alert alert-warning\">\n",
    "    \n",
    "Solution_10\n",
    "    \n",
    "</div>\n",
    "\n",
    "_Points:_ 10"
   ]
  },
  {
   "cell_type": "markdown",
   "metadata": {},
   "source": [
    "_Type your answer here, replacing this text._"
   ]
  },
  {
   "cell_type": "code",
   "execution_count": null,
   "metadata": {
    "tags": []
   },
   "outputs": [],
   "source": [
    "..."
   ]
  },
  {
   "cell_type": "code",
   "execution_count": null,
   "metadata": {
    "tags": []
   },
   "outputs": [],
   "source": [
    "..."
   ]
  },
  {
   "cell_type": "code",
   "execution_count": null,
   "metadata": {
    "tags": []
   },
   "outputs": [],
   "source": [
    "..."
   ]
  },
  {
   "cell_type": "code",
   "execution_count": null,
   "metadata": {
    "tags": []
   },
   "outputs": [],
   "source": [
    "..."
   ]
  },
  {
   "cell_type": "code",
   "execution_count": null,
   "metadata": {
    "tags": []
   },
   "outputs": [],
   "source": [
    "..."
   ]
  },
  {
   "cell_type": "code",
   "execution_count": null,
   "metadata": {
    "tags": []
   },
   "outputs": [],
   "source": [
    "..."
   ]
  },
  {
   "cell_type": "code",
   "execution_count": null,
   "metadata": {
    "tags": []
   },
   "outputs": [],
   "source": [
    "..."
   ]
  },
  {
   "cell_type": "code",
   "execution_count": null,
   "metadata": {
    "tags": []
   },
   "outputs": [],
   "source": [
    "..."
   ]
  },
  {
   "cell_type": "markdown",
   "metadata": {
    "deletable": false,
    "editable": false
   },
   "source": [
    "<!-- END QUESTION -->\n",
    "\n",
    "<br><br>"
   ]
  },
  {
   "cell_type": "markdown",
   "metadata": {
    "deletable": false,
    "editable": false
   },
   "source": [
    "<!-- BEGIN QUESTION -->\n",
    "\n",
    "## 11. Interpretation and feature importances <a name=\"1\"></a>\n",
    "<hr>\n",
    "rubric={points:10}\n",
    "\n",
    "**Your tasks:**\n",
    "\n",
    "1. Use the methods we saw in class (e.g., `shap`) (or any other methods of your choice) to examine the most important features of one of the non-linear models. \n",
    "2. Summarize your observations. "
   ]
  },
  {
   "cell_type": "markdown",
   "metadata": {
    "deletable": false,
    "editable": false
   },
   "source": [
    "<div class=\"alert alert-warning\">\n",
    "    \n",
    "Solution_11\n",
    "    \n",
    "</div>\n",
    "\n",
    "_Points:_ 10"
   ]
  },
  {
   "cell_type": "markdown",
   "metadata": {},
   "source": [
    "_Type your answer here, replacing this text._"
   ]
  },
  {
   "cell_type": "code",
   "execution_count": null,
   "metadata": {
    "tags": []
   },
   "outputs": [],
   "source": [
    "..."
   ]
  },
  {
   "cell_type": "code",
   "execution_count": null,
   "metadata": {
    "tags": []
   },
   "outputs": [],
   "source": [
    "..."
   ]
  },
  {
   "cell_type": "code",
   "execution_count": null,
   "metadata": {
    "tags": []
   },
   "outputs": [],
   "source": [
    "..."
   ]
  },
  {
   "cell_type": "code",
   "execution_count": null,
   "metadata": {
    "tags": []
   },
   "outputs": [],
   "source": [
    "..."
   ]
  },
  {
   "cell_type": "code",
   "execution_count": null,
   "metadata": {
    "tags": []
   },
   "outputs": [],
   "source": [
    "..."
   ]
  },
  {
   "cell_type": "code",
   "execution_count": null,
   "metadata": {
    "tags": []
   },
   "outputs": [],
   "source": [
    "..."
   ]
  },
  {
   "cell_type": "code",
   "execution_count": null,
   "metadata": {
    "tags": []
   },
   "outputs": [],
   "source": [
    "..."
   ]
  },
  {
   "cell_type": "code",
   "execution_count": null,
   "metadata": {
    "tags": []
   },
   "outputs": [],
   "source": [
    "..."
   ]
  },
  {
   "cell_type": "code",
   "execution_count": null,
   "metadata": {
    "tags": []
   },
   "outputs": [],
   "source": [
    "..."
   ]
  },
  {
   "cell_type": "code",
   "execution_count": null,
   "metadata": {
    "tags": []
   },
   "outputs": [],
   "source": [
    "..."
   ]
  },
  {
   "cell_type": "markdown",
   "metadata": {
    "deletable": false,
    "editable": false
   },
   "source": [
    "<!-- END QUESTION -->\n",
    "\n",
    "<br><br>"
   ]
  },
  {
   "cell_type": "markdown",
   "metadata": {
    "deletable": false,
    "editable": false,
    "tags": []
   },
   "source": [
    "<!-- BEGIN QUESTION -->\n",
    "\n",
    "## 12. Results on the test set <a name=\"12\"></a>\n",
    "<hr>\n",
    "\n",
    "rubric={points:10}\n",
    "\n",
    "**Your tasks:**\n",
    "\n",
    "1. Try your best performing model on the test data and report test scores. \n",
    "2. Do the test scores agree with the validation scores from before? To what extent do you trust your results? Do you think you've had issues with optimization bias? \n",
    "3. Take one or two test predictions and explain these individual predictions (e.g., with SHAP force plots).  "
   ]
  },
  {
   "cell_type": "markdown",
   "metadata": {
    "deletable": false,
    "editable": false
   },
   "source": [
    "<div class=\"alert alert-warning\">\n",
    "    \n",
    "Solution_12\n",
    "    \n",
    "</div>\n",
    "\n",
    "_Points:_ 10"
   ]
  },
  {
   "cell_type": "markdown",
   "metadata": {},
   "source": [
    "_Type your answer here, replacing this text._"
   ]
  },
  {
   "cell_type": "code",
   "execution_count": null,
   "metadata": {
    "tags": []
   },
   "outputs": [],
   "source": [
    "..."
   ]
  },
  {
   "cell_type": "code",
   "execution_count": null,
   "metadata": {
    "tags": []
   },
   "outputs": [],
   "source": [
    "..."
   ]
  },
  {
   "cell_type": "code",
   "execution_count": null,
   "metadata": {
    "tags": []
   },
   "outputs": [],
   "source": [
    "..."
   ]
  },
  {
   "cell_type": "code",
   "execution_count": null,
   "metadata": {
    "tags": []
   },
   "outputs": [],
   "source": [
    "..."
   ]
  },
  {
   "cell_type": "code",
   "execution_count": null,
   "metadata": {
    "tags": []
   },
   "outputs": [],
   "source": [
    "..."
   ]
  },
  {
   "cell_type": "code",
   "execution_count": null,
   "metadata": {
    "tags": []
   },
   "outputs": [],
   "source": [
    "..."
   ]
  },
  {
   "cell_type": "code",
   "execution_count": null,
   "metadata": {
    "tags": []
   },
   "outputs": [],
   "source": [
    "..."
   ]
  },
  {
   "cell_type": "code",
   "execution_count": null,
   "metadata": {
    "tags": []
   },
   "outputs": [],
   "source": [
    "..."
   ]
  },
  {
   "cell_type": "code",
   "execution_count": null,
   "metadata": {
    "tags": []
   },
   "outputs": [],
   "source": [
    "..."
   ]
  },
  {
   "cell_type": "code",
   "execution_count": null,
   "metadata": {
    "tags": []
   },
   "outputs": [],
   "source": [
    "..."
   ]
  },
  {
   "cell_type": "code",
   "execution_count": null,
   "metadata": {
    "tags": []
   },
   "outputs": [],
   "source": [
    "..."
   ]
  },
  {
   "cell_type": "code",
   "execution_count": null,
   "metadata": {
    "tags": []
   },
   "outputs": [],
   "source": [
    "..."
   ]
  },
  {
   "cell_type": "markdown",
   "metadata": {
    "deletable": false,
    "editable": false
   },
   "source": [
    "<!-- END QUESTION -->\n",
    "\n",
    "<br><br>"
   ]
  },
  {
   "cell_type": "markdown",
   "metadata": {
    "deletable": false,
    "editable": false
   },
   "source": [
    "<!-- BEGIN QUESTION -->\n",
    "\n",
    "## 13. Summary of results <a name=\"13\"></a>\n",
    "<hr>\n",
    "rubric={points:12}\n",
    "\n",
    "Imagine that you want to present the summary of these results to your boss and co-workers. \n",
    "\n",
    "**Your tasks:**\n",
    "\n",
    "1. Create a table summarizing important results. \n",
    "2. Write concluding remarks.\n",
    "3. Discuss other ideas that you did not try but could potentially improve the performance/interpretability . \n",
    "3. Report your final test score along with the metric you used at the top of this notebook in the [Submission instructions section](#si)."
   ]
  },
  {
   "cell_type": "markdown",
   "metadata": {
    "deletable": false,
    "editable": false
   },
   "source": [
    "<div class=\"alert alert-warning\">\n",
    "    \n",
    "Solution_13\n",
    "    \n",
    "</div>\n",
    "\n",
    "_Points:_ 12"
   ]
  },
  {
   "cell_type": "markdown",
   "metadata": {},
   "source": [
    "_Type your answer here, replacing this text._"
   ]
  },
  {
   "cell_type": "code",
   "execution_count": null,
   "metadata": {
    "tags": []
   },
   "outputs": [],
   "source": [
    "..."
   ]
  },
  {
   "cell_type": "code",
   "execution_count": null,
   "metadata": {
    "tags": []
   },
   "outputs": [],
   "source": [
    "..."
   ]
  },
  {
   "cell_type": "markdown",
   "metadata": {
    "deletable": false,
    "editable": false
   },
   "source": [
    "<!-- END QUESTION -->\n",
    "\n",
    "<br><br>"
   ]
  },
  {
   "cell_type": "markdown",
   "metadata": {},
   "source": [
    "<br><br>"
   ]
  },
  {
   "cell_type": "markdown",
   "metadata": {
    "deletable": false,
    "editable": false
   },
   "source": [
    "<!-- BEGIN QUESTION -->\n",
    "\n",
    "## 14. Your takeaway <a name=\"15\"></a>\n",
    "<hr>\n",
    "rubric={points:2}\n",
    "\n",
    "**Your tasks:**\n",
    "\n",
    "What is your biggest takeaway from the supervised machine learning material we have learned so far? Please write thoughtful answers.  "
   ]
  },
  {
   "cell_type": "markdown",
   "metadata": {
    "deletable": false,
    "editable": false
   },
   "source": [
    "<div class=\"alert alert-warning\">\n",
    "    \n",
    "Solution_14\n",
    "    \n",
    "</div>\n",
    "\n",
    "_Points:_ 2"
   ]
  },
  {
   "cell_type": "markdown",
   "metadata": {
    "deletable": false,
    "editable": false
   },
   "source": [
    "<!-- END QUESTION -->\n",
    "\n",
    "<br><br>"
   ]
  },
  {
   "cell_type": "markdown",
   "metadata": {},
   "source": [
    "**PLEASE READ BEFORE YOU SUBMIT:** \n",
    "\n",
    "When you are ready to submit your assignment do the following:\n",
    "\n",
    "1. Run all cells in your notebook to make sure there are no errors by doing `Kernel -> Restart Kernel and Clear All Outputs` and then `Run -> Run All Cells`. \n",
    "2. Notebooks with cell execution numbers out of order or not starting from \"1\" will have marks deducted. Notebooks without the output displayed may not be graded at all (because we need to see the output in order to grade your work).\n",
    "4. Upload the assignment using Gradescope's drag and drop tool. Check out this [Gradescope Student Guide](https://lthub.ubc.ca/guides/gradescope-student-guide/) if you need help with Gradescope submission. \n",
    "5. Make sure that the plots and output are rendered properly in your submitted file. If the .ipynb file is too big and doesn't render on Gradescope, also upload a pdf or html in addition to the .ipynb so that the TAs can view your submission on Gradescope. "
   ]
  },
  {
   "cell_type": "markdown",
   "metadata": {},
   "source": [
    "This was a tricky one but you did it! "
   ]
  },
  {
   "cell_type": "markdown",
   "metadata": {},
   "source": [
    "![](img/eva-well-done.png)"
   ]
  }
 ],
 "metadata": {
  "kernelspec": {
   "display_name": "Python [conda env:cpsc330] *",
   "language": "python",
   "name": "conda-env-cpsc330-py"
  },
  "language_info": {
   "codemirror_mode": {
    "name": "ipython",
    "version": 3
   },
   "file_extension": ".py",
   "mimetype": "text/x-python",
   "name": "python",
   "nbconvert_exporter": "python",
   "pygments_lexer": "ipython3",
   "version": "3.12.0"
  },
  "otter": {
   "OK_FORMAT": true,
   "tests": {}
  }
 },
 "nbformat": 4,
 "nbformat_minor": 4
}
